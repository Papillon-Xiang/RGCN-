{
 "cells": [
  {
   "cell_type": "markdown",
   "metadata": {
    "collapsed": false,
    "pycharm": {
     "name": "#%% md\n"
    }
   },
   "source": [
    "## RGCN模型"
   ]
  },
  {
   "cell_type": "code",
   "execution_count": null,
   "metadata": {
    "collapsed": false,
    "pycharm": {
     "name": "#%%\n"
    }
   },
   "outputs": [],
   "source": [
    "\n",
    "class RGCN(nn.Module):\n",
    "    def __init__(self, num_nodes, h_dim, out_dim, num_rels,\n",
    "                 regularizer=\"basis\", num_bases=-1, dropout=0.,\n",
    "                 self_loop=False,\n",
    "                 ns_mode=False):          \n",
    " \n",
    "\n",
    "        # num_node\n",
    "        # h_dim: 指定的embedding后的向量维度\n",
    "        # out_dim: the number of dimensions of (h_i)^(l+1)\n",
    "        # num_rel(int):number of relations 边类型的数量(关系数量)\n",
    "        # regularizer: basis (基函数分解) or bdd(block-diagonal-decomposition) (块对角分解)\n",
    "        # num_base:  W_r 分解的数量，对应公式（3）B值，即累加求和上限 (needed when 'regularizer' is specified)\n",
    "          # 是我们人为给定的量\n",
    "        # self_loop: 是否加入自身节点表示 (entity classfication)\n",
    "          # 加上自身节点表示：Test Accuracy: 0.9167 \n",
    "          # 不加自身节点表示：Test Accuracy: 0.8333 \n",
    "        # ns_mode: False\n",
    "          # 改成True会报错  \n",
    "    \n",
    "        super(RGCN, self).__init__()\n",
    "        \n",
    "        # num_base 不能小于0 且不能大于现有维度，否则复杂度会变高，参数反而增加\n",
    "        # 所以如果num_bases = -1或者大于现有维度, 我们让正则化累加求和最大值就等于关系数量\n",
    "        if num_bases == -1: \n",
    "            num_bases = num_rels\n",
    "        # RelGraphConv(in_feat,out_feat,num_rels,regularizer,num_bases,bias,activation,self_loop,dropout, layer_norm=False)\n",
    "      \n",
    "        # 生成节点的embedding, 维度是我们指定的输出维度embedding: h_dim\n",
    "        self.emb = nn.Embedding(num_nodes, h_dim) \n",
    "        # input_feature_size = output_feature_size = h_dim\n",
    "        self.conv1 = RelGraphConv(h_dim, h_dim, num_rels, regularizer,\n",
    "                                  num_bases, self_loop=self_loop) \n",
    "        self.conv2 = RelGraphConv(h_dim, out_dim, num_rels, regularizer, num_bases, self_loop=self_loop)\n",
    "        \n",
    "        self.dropout = nn.Dropout(dropout)\n",
    "        self.ns_mode = ns_mode \n",
    "\n"
   ]
  },
  {
   "cell_type": "markdown",
   "metadata": {
    "collapsed": false,
    "pycharm": {
     "name": "#%% md\n"
    }
   },
   "source": [
    "![formula_of_rgcn.jpg](https://s2.loli.net/2022/07/10/Gn9VWSRiMywT8oF.jpg)\n",
    "\n",
    "\n",
    "\n",
    "![屏幕截图 2022-07-10 182331.jpg](https://s2.loli.net/2022/07/10/Rbo4d7qhp1azQC6.jpg)\n",
    "\n",
    "\n",
    "![屏幕截图 2022-07-10 182353.jpg](https://s2.loli.net/2022/07/10/kmYropATFH9JCx6.jpg)"
   ]
  },
  {
   "cell_type": "code",
   "execution_count": 1,
   "metadata": {},
   "outputs": [
    {
     "name": "stderr",
     "output_type": "stream",
     "text": [
      "/usr/local/lib/python3.8/dist-packages/tqdm/auto.py:22: TqdmWarning: IProgress not found. Please update jupyter and ipywidgets. See https://ipywidgets.readthedocs.io/en/stable/user_install.html\n",
      "  from .autonotebook import tqdm as notebook_tqdm\n"
     ]
    }
   ],
   "source": [
    "import dgl\n",
    "import numpy as np\n",
    "import torch as th\n",
    "from dgl.nn import RelGraphConv\n"
   ]
  },
  {
   "cell_type": "code",
   "execution_count": 10,
   "metadata": {},
   "outputs": [
    {
     "data": {
      "text/plain": [
       "tensor([[-0.7617,  2.6243],\n",
       "        [ 0.2812,  1.5211],\n",
       "        [-0.7617,  2.6243],\n",
       "        [-2.0322,  0.6789],\n",
       "        [ 0.2812,  1.5211],\n",
       "        [-0.5258,  2.1150]], grad_fn=<AddBackward0>)"
      ]
     },
     "execution_count": 10,
     "metadata": {},
     "output_type": "execute_result"
    }
   ],
   "source": [
    "g = dgl.graph(([0,1,2,3,2,5], [1,2,3,4,0,3]))\n",
    "feat = th.ones(6, 10)\n",
    "conv = RelGraphConv(10, 2, 3, regularizer='basis', num_bases=2)\n",
    "etype = th.tensor([0,1,2,0,1,2])\n",
    "res = conv(g, feat, etype)\n",
    "\n",
    "res\n"
   ]
  },
  {
   "cell_type": "code",
   "execution_count": 15,
   "metadata": {},
   "outputs": [
    {
     "name": "stdout",
     "output_type": "stream",
     "text": [
      "tensor([0, 1, 2, 3, 4, 5])\n",
      "(tensor([0, 1, 2, 3, 2, 5]), tensor([1, 2, 3, 4, 0, 3]))\n",
      "(tensor([0, 1, 2, 3, 2, 5]), tensor([1, 2, 3, 4, 0, 3]), tensor([0, 1, 2, 3, 4, 5]))\n"
     ]
    }
   ],
   "source": [
    "print(g.nodes())\n",
    "print(g.edges())\n",
    "\n",
    "# edge end nodes and edge IDs\n",
    "print(g.edges(form = 'all'))"
   ]
  },
  {
   "cell_type": "code",
   "execution_count": 19,
   "metadata": {},
   "outputs": [
    {
     "name": "stdout",
     "output_type": "stream",
     "text": [
      "Parameter containing:\n",
      "tensor([[ 0.1645,  1.4833],\n",
      "        [-0.9181, -0.3760],\n",
      "        [-0.5819, -0.2450],\n",
      "        [-1.4265, -1.2943],\n",
      "        [ 0.0770, -0.3770]], requires_grad=True)\n"
     ]
    }
   ],
   "source": [
    "import torch as th\n",
    "import torch.nn as nn\n",
    "\n",
    "# Embedding.weight (Tensor) – the learnable weights of the module of shape (num_embeddings, embedding_dim)\n",
    "# Initialized from normal distribution N(0,1)\n",
    "emb = nn.Embedding(5, 2)\n",
    "x = emb.weight\n",
    "\n",
    "print(x)"
   ]
  },
  {
   "cell_type": "code",
   "execution_count": null,
   "metadata": {
    "collapsed": false,
    "pycharm": {
     "name": "#%%\n"
    }
   },
   "outputs": [],
   "source": [
    "# 原始的节点或边的类型和对应的ID被存储在 ndata 和 edata 中\n",
    "def forward(self, g, nids=None): # nids:原始的特定类型节点ID \n",
    "        if self.ns_mode: \n",
    "            # forward for neighbor sampling\n",
    "            # dgl 中的边都是有向的，由 u指向 v\n",
    "            # g[0]代表传入节点: u\n",
    "            # g[1]表示传出节点：v  \n",
    "            # dgl.NID: 节点特征, dgl.EID: 边特征\n",
    "            x = self.emb(g[0].srcdata[dgl.NID]) # x是embedding之后的传入节点特征\n",
    "            # 即在第一层输入传入节点u，embedding后的传入节点特征，传入节点特征的边特征， 传入节点的边的l2 norm(欧几里得范数)\n",
    "            h = self.conv1(g[0], x, g[0].edata[dgl.ETYPE], g[0].edata['norm']) # g[0].edata[dgl.ETYPE]：传入节点的边类型\n",
    "            h = self.dropout(F.relu(h))\n",
    "            # 第二层输入传出节点v，第一层输出结果h, 传出节点的边特征，传出节点的边的欧几里得范数\n",
    "            h = self.conv2(g[1], h, g[1].edata[dgl.ETYPE], g[1].edata['norm']) # g[1].edata[dgl.ETYPE]: 传出节点的边特征\n",
    "            return h\n",
    "        \n",
    "        # entity classification & link prediction\n",
    "        else: \n",
    "            # x 是初始化的权重\n",
    "            x = self.emb.weight if nids is None else self.emb(nids)\n",
    "            h = self.conv1(g, x, g.edata[dgl.ETYPE], g.edata['norm']) \n",
    "            h = self.dropout(F.relu(h))\n",
    "            h = self.conv2(g, h, g.edata[dgl.ETYPE], g.edata['norm'])\n",
    "            return h\n",
    "\n",
    "\n"
   ]
  },
  {
   "cell_type": "markdown",
   "metadata": {
    "collapsed": false,
    "pycharm": {
     "name": "#%% md\n"
    }
   },
   "source": [
    "## 实体分类(Entity Classification)\n",
    "assign types and categorical properties to entities \\\n",
    "实体分类是通过在实体(节点)的最后嵌入处附加softmax分类器来完成的。训练是通过标准交叉熵的损失函数进行的。"
   ]
  },
  {
   "cell_type": "markdown",
   "metadata": {},
   "source": [
    "## AIFB数据集介绍\n",
    "用于预测数据集中人员的从属关系（即研究小组）\n",
    "数据集由：staff, research groups, publications 组成\n",
    "#### AIFB数据集 \n",
    "- num_edges: 29,043\n",
    "- Number of Classes: 4 i.e. four types of research groups\n",
    "- labeled: 176 train:140, test:36\n",
    "- num_nodes: 8285\n",
    "- relations: 45"
   ]
  },
  {
   "cell_type": "code",
   "execution_count": null,
   "metadata": {
    "collapsed": false,
    "pycharm": {
     "name": "#%%\n"
    }
   },
   "outputs": [],
   "source": [
    "def main(args):\n",
    "    g, num_rels, num_classes, labels, train_idx, test_idx, target_idx = load_data(\n",
    "        args.dataset, get_norm=True)\n",
    "    # data = load_data(dataset='aifb')\n",
    "    # num_nodes = data.num_nodes = 29,043\n",
    "    # num_rels = data.num_rels = 45\n",
    "    # num_classes = data.num_classes = 4\n",
    "    # labels = data.labels = 176\n",
    "    # train_idx = data.train_idx\n",
    "    # val_idx = train_idx[:len(train_idx) // 5]\n",
    "    # train_idx = train_idx[len(train_idx) // 5:]\n",
    "    model = RGCN(g.num_nodes(),\n",
    "                 args.n_hidden,\n",
    "                 num_classes,\n",
    "                 num_rels,\n",
    "                 num_bases=args.n_bases)\n",
    "\n",
    "    if args.gpu >= 0 and th.cuda.is_available():\n",
    "        device = th.device(args.gpu)\n",
    "    else:\n",
    "        device = th.device('cpu')\n",
    "    labels = labels.to(device)\n",
    "    model = model.to(device)\n",
    "    g = g.int().to(device)\n",
    "\n",
    "    optimizer = th.optim.Adam(model.parameters(), lr=1e-2, weight_decay=args.wd)\n",
    "\n",
    "    model.train()\n",
    "    for epoch in range(100):\n",
    "        logits = model(g)\n",
    "        logits = logits[target_idx]\n",
    "        loss = F.cross_entropy(logits[train_idx], labels[train_idx])\n",
    "        optimizer.zero_grad()\n",
    "        loss.backward()\n",
    "        optimizer.step()\n",
    "\n",
    "        train_acc = accuracy(logits[train_idx].argmax(dim=1), labels[train_idx]).item()\n",
    "        print(\"Epoch {:05d} | Train Accuracy: {:.4f} | Train Loss: {:.4f}\".format(\n",
    "            epoch, train_acc, loss.item()))\n",
    "    print()\n",
    "\n",
    "    model.eval()\n",
    "    with th.no_grad():\n",
    "        logits = model(g)\n",
    "    logits = logits[target_idx]\n",
    "    test_acc = accuracy(logits[test_idx].argmax(dim=1), labels[test_idx]).item()\n",
    "    print(\"Test Accuracy: {:.4f}\".format(test_acc))"
   ]
  },
  {
   "cell_type": "code",
   "execution_count": null,
   "metadata": {
    "collapsed": false,
    "pycharm": {
     "name": "#%%\n"
    }
   },
   "outputs": [],
   "source": [
    "if __name__ == '__main__':\n",
    "    parser = argparse.ArgumentParser(description='RGCN for entity classification')\n",
    "    parser.add_argument(\"--n-hidden\", type=int, default=16,\n",
    "                        help=\"number of hidden units\")\n",
    "    parser.add_argument(\"--gpu\", type=int, default=-1,\n",
    "                        help=\"gpu\")\n",
    "    parser.add_argument(\"--n-bases\", type=int, default=-1,\n",
    "                        help=\"number of filter weight matrices, default: -1 [use all]\")\n",
    "    parser.add_argument(\"-d\", \"--dataset\", type=str, required=True,\n",
    "                        choices=['aifb', 'mutag', 'bgs', 'am'],\n",
    "                        help=\"dataset to use\")\n",
    "    parser.add_argument(\"--wd\", type=float, default=5e-4,\n",
    "                        help=\"weight decay\")\n",
    "\n",
    "    args = parser.parse_args()\n",
    "    print(args)\n",
    "    main(args)\n",
    "    "
   ]
  },
  {
   "cell_type": "markdown",
   "metadata": {
    "collapsed": false,
    "pycharm": {
     "name": "#%% md\n"
    }
   },
   "source": [
    "## 关系预测(Link Prediction)\n",
    "recover missing triples: (subject, relation,object) \\\n",
    "链路预测是通过使用参数化评分函数，使用自动编码器架构重建边缘来完成的。训练使用负采样。"
   ]
  },
  {
   "cell_type": "markdown",
   "metadata": {},
   "source": [
    "## FB15k-237 数据集介绍：知识图谱Freebase的子集\n",
    "15k表示知识库中由15,000个主题词，237表示共有237种关系\n",
    "- 主题词总数：14505\n",
    "- triple三元组总数: 544230\n",
    "- 关系的种类数：474 \n",
    "    - FB15k存在着正反关系，他们意义相同，指向相反。rgcn将一对正反关系视为不同的关系，因此统计数为237*2=474\n",
    "- 每个主题词的平均三元组数: 37.5\n",
    "- 每个主题词的平均关系数：10.3\n",
    "- 每个关系连接的平均实体数：3.57 \n"
   ]
  },
  {
   "cell_type": "code",
   "execution_count": null,
   "metadata": {
    "collapsed": false,
    "pycharm": {
     "name": "#%%\n"
    }
   },
   "outputs": [],
   "source": [
    "\n",
    "class LinkPredict(nn.Module):\n",
    "    def __init__(self, in_dim, num_rels, h_dim=500, num_bases=100, dropout=0.2, reg_param=0.01):\n",
    "        super(LinkPredict, self).__init__()\n",
    "        # in_dim = num_nodes\n",
    "        # reg_param: 正则化参数 : l2 regularization to the decoder with penalty of 0.01\n",
    "        self.rgcn = RGCN(in_dim, h_dim, h_dim, num_rels * 2, regularizer=\"bdd\",\n",
    "                         num_bases=num_bases, dropout=dropout, self_loop=True)\n",
    "        self.dropout = nn.Dropout(dropout)\n",
    "        self.reg_param = reg_param\n",
    "        self.w_relation = nn.Parameter(th.Tensor(num_rels, h_dim))\n",
    "        nn.init.xavier_uniform_(self.w_relation,\n",
    "                                gain=nn.init.calculate_gain('relu'))"
   ]
  },
  {
   "cell_type": "markdown",
   "metadata": {
    "collapsed": false,
    "pycharm": {
     "name": "#%% md\n"
    }
   },
   "source": [
    "![score.jpg](https://s2.loli.net/2022/07/10/2U9OEWNiprl4RYG.jpg)\n",
    "\n",
    "![loss.jpg](https://s2.loli.net/2022/07/10/Qx4cRq9svzPpoS6.jpg)\n",
    "- l: logistic sigmoid function\n",
    "- y = 0 for negative triples\n",
    "- y = 1 for positive triples"
   ]
  },
  {
   "cell_type": "code",
   "execution_count": null,
   "metadata": {
    "collapsed": false,
    "pycharm": {
     "name": "#%%\n"
    }
   },
   "outputs": [],
   "source": [
    "def calc_score(self, embedding, triplets):\n",
    "        # score即对应上方公式(1)\n",
    "        # e_i = h_i\n",
    "        # R_r 为对角矩阵\n",
    "        # 我们用一个directed and labeled graph G = (V, E, R) 来表示知识库(knowledge base)\n",
    "        # triplets： 即(subject, relation, object)元组\n",
    "        # assign scores to possible edges(s, r, o) 来判定这些边属于E的可能性\n",
    "        s = embedding[triplets[:,0]]\n",
    "        r = self.w_relation[triplets[:,1]]\n",
    "        o = embedding[triplets[:,2]]\n",
    "        score = th.sum(s * r * o, dim=1)\n",
    "        return score\n",
    "\n",
    "def forward(self, g, nids):\n",
    "        return self.dropout(self.rgcn(g, nids=nids))\n",
    "\n",
    "def regularization_loss(self, embedding):\n",
    "        return th.mean(embedding.pow(2)) + th.mean(self.w_relation.pow(2))\n",
    "\n",
    "def get_loss(self, embed, triplets, labels):\n",
    "        # each row in the triplets is a 3-tuple of (source, relation, destination)\n",
    "        score = self.calc_score(embed, triplets)\n",
    "        predict_loss = F.binary_cross_entropy_with_logits(score, labels)\n",
    "        reg_loss = self.regularization_loss(embed)\n",
    "        return predict_loss + self.reg_param * reg_loss"
   ]
  },
  {
   "cell_type": "code",
   "execution_count": null,
   "metadata": {
    "collapsed": false,
    "pycharm": {
     "name": "#%%\n"
    }
   },
   "outputs": [],
   "source": [
    "def main(args):\n",
    "    data = FB15k237Dataset(reverse=False) # 所以这里的num_rel = 237\n",
    "    graph = data[0] \n",
    "    num_nodes = graph.num_nodes() # 14541\n",
    "    num_rels = data.num_rels # 237\n",
    "\n",
    "    # test_g = Graph(num_nodes=14541, num_edges=544230)\n",
    "    # train_g = Graph(num_nodes=14541,num_edges=272115)\n",
    "    \n",
    "    train_g, test_g = preprocess(graph, num_rels)\n",
    "    test_nids = th.arange(0, num_nodes) # 节点ID\n",
    "    test_mask = graph.edata['test_mask']\n",
    "    subg_iter = SubgraphIterator(train_g, num_rels, args.edge_sampler) # 分成子图训练\n",
    "    dataloader = GraphDataLoader(subg_iter, batch_size=1, collate_fn=lambda x: x[0])\n",
    "\n",
    "    '''class SubgraphIterator:\n",
    "    def __init__(self, g, num_rels, pos_sampler, sample_size=30000, num_epochs=6000):\n",
    "        self.g = g\n",
    "        self.num_rels = num_rels\n",
    "        self.sample_size = sample_size\n",
    "        self.num_epochs = num_epochs\n",
    "        if pos_sampler == 'neighbor':\n",
    "            self.pos_sampler = NeighborExpand(g, sample_size)\n",
    "        else:\n",
    "            self.pos_sampler = GlobalUniform(g, sample_size)\n",
    "        self.neg_sampler = NegativeSampler()\n",
    "    '''\n",
    "\n",
    "    # Prepare data for metric computation\n",
    "    # 设定元组\n",
    "    src, dst = graph.edges()\n",
    "    triplets = th.stack([src, graph.edata['etype'], dst], dim=1) \n",
    "\n",
    "    model = LinkPredict(num_nodes, num_rels)\n",
    "    optimizer = th.optim.Adam(model.parameters(), lr=1e-2)\n",
    "\n",
    "    if args.gpu >= 0 and th.cuda.is_available():\n",
    "        device = th.device(args.gpu)\n",
    "    else:\n",
    "        device = th.device('cpu')\n",
    "    model = model.to(device)\n",
    "    # 用MRR(mean reciprocal rank)矩阵评估\n",
    "    # 平均倒数排名是统计学中，依据排序的正确性，对查询请求响应结果的评估。\n",
    "    # 查询响应结果的倒数排名是第一个正确答案的倒数积\n",
    "    best_mrr = 0\n",
    "    model_state_file = 'model_state.pth'\n",
    "    for epoch, batch_data in enumerate(dataloader):\n",
    "        model.train()\n",
    "        g, train_nids, edges, labels = batch_data\n",
    "        g = g.to(device) \n",
    "        train_nids = train_nids.to(device)\n",
    "        edges = edges.to(device)\n",
    "        labels = labels.to(device)\n",
    "\n",
    "        embed = model(g, train_nids)\n",
    "        loss = model.get_loss(embed, edges, labels)\n",
    "        optimizer.zero_grad()\n",
    "        loss.backward()\n",
    "        nn.utils.clip_grad_norm_(model.parameters(), max_norm=1.0) # clip gradients\n",
    "        optimizer.step()\n",
    "\n",
    "        print(\"Epoch {:04d} | Loss {:.4f} | Best MRR {:.4f}\".format(epoch, loss.item(), best_mrr))\n",
    "\n",
    "        if (epoch + 1) % 500 == 0:\n",
    "            # perform validation on CPU because full graph is too large\n",
    "            model = model.cpu()\n",
    "            model.eval()\n",
    "            print(\"start eval\")\n",
    "            embed = model(test_g, test_nids)\n",
    "            mrr = calc_mrr(embed, model.w_relation, test_mask, triplets,\n",
    "                           batch_size=500, eval_p=args.eval_protocol)\n",
    "            # save best model\n",
    "            if best_mrr < mrr:\n",
    "                best_mrr = mrr\n",
    "                th.save({'state_dict': model.state_dict(), 'epoch': epoch}, model_state_file)\n",
    "\n",
    "            model = model.to(device)"
   ]
  },
  {
   "cell_type": "code",
   "execution_count": null,
   "metadata": {
    "collapsed": false,
    "pycharm": {
     "name": "#%%\n"
    }
   },
   "outputs": [],
   "source": [
    "if __name__ == '__main__':\n",
    "    parser = argparse.ArgumentParser(description='RGCN for entity classification')\n",
    "    parser.add_argument(\"--n-hidden\", type=int, default=16,\n",
    "                        help=\"number of hidden units\")\n",
    "    parser.add_argument(\"--gpu\", type=int, default=-1,\n",
    "                        help=\"gpu\")\n",
    "    parser.add_argument(\"--n-bases\", type=int, default=-1,\n",
    "                        help=\"number of filter weight matrices, default: -1 [use all]\")\n",
    "    parser.add_argument(\"-d\", \"--dataset\", type=str, required=True,\n",
    "                        choices=['aifb', 'mutag', 'bgs', 'am'],\n",
    "                        help=\"dataset to use\")\n",
    "    parser.add_argument(\"--wd\", type=float, default=5e-4,\n",
    "                        help=\"weight decay\")\n",
    "\n",
    "    args = parser.parse_args()\n",
    "    print(args)\n",
    "    main(args)\n",
    "    "
   ]
  }
 ],
 "metadata": {
  "kernelspec": {
   "display_name": "Python 3.8.13 64-bit",
   "language": "python",
   "name": "python3"
  },
  "language_info": {
   "codemirror_mode": {
    "name": "ipython",
    "version": 3
   },
   "file_extension": ".py",
   "mimetype": "text/x-python",
   "name": "python",
   "nbconvert_exporter": "python",
   "pygments_lexer": "ipython3",
   "version": "3.8.13"
  },
  "orig_nbformat": 4,
  "vscode": {
   "interpreter": {
    "hash": "767d51c1340bd893661ea55ea3124f6de3c7a262a8b4abca0554b478b1e2ff90"
   }
  }
 },
 "nbformat": 4,
 "nbformat_minor": 2
}

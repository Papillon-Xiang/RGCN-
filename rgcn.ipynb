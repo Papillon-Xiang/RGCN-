{
 "cells": [
  {
   "cell_type": "markdown",
   "metadata": {
    "collapsed": false,
    "pycharm": {
     "name": "#%% md\n"
    }
   },
   "source": [
    "## RGCN模型"
   ]
  },
  {
   "cell_type": "markdown",
   "metadata": {
    "collapsed": false,
    "pycharm": {
     "name": "#%% md\n"
    }
   },
   "source": [
    "问题： \n",
    "- 关于node和entity的关系\n",
    "- ns_mode的作用\n",
    "- 为什么link predicition中num_rel * 2?\n"
   ]
  },
  {
   "cell_type": "code",
   "execution_count": null,
   "metadata": {
    "collapsed": false,
    "pycharm": {
     "name": "#%%\n"
    }
   },
   "outputs": [],
   "source": [
    "\n",
    "#  AIFB数据集 原本数据\n",
    "#  Nodes: 7262 \n",
    "#  num_edges: 48,810 (including reverse edges)\n",
    "#  Target Category: Personen\n",
    "#  Number of Classes: 4\n",
    "#  Label Split:train:140, test:36\n",
    "# entities = nodes? : 8285\n",
    "# relations: 45\n",
    "# edges: 29,043\n",
    "\n",
    "\n",
    "class RGCN(nn.Module):\n",
    "    def __init__(self, num_nodes, h_dim, out_dim, num_rels,\n",
    "                 regularizer=\"basis\", num_bases=-1, dropout=0.,\n",
    "                 self_loop=False,\n",
    "                 ns_mode=False):\n",
    "    # 与dgl官方实现的对比             \n",
    "    ''' def __init__(self, in_feat, out_feat, num_rels, num_bases=-1, bias=None,\n",
    "                 activation=None, is_input_layer=False):\n",
    "    '''\n",
    "\n",
    "        # num_nodes\n",
    "        # (h_i)^(l): 节点i的第l层节点表示\n",
    "        # in_feat(int) = h_dim: the number of dimension of (h_i)^(l)\n",
    "        # out_feat(int) = out_dim the number of dimensions of (h_i)^(l+1)\n",
    "        # num_rel(int):number of relations 边类型的数量(关系数量)\n",
    "        # regularizer: basis (基函数分解) or bdd(block-diagonal-decomposition) (块对角分解)\n",
    "        # self_loop: 是否加入自身节点表示 \n",
    "        # num_base:  W_r 分解的数量，对应公式（3）B值，即累加求和上限 (needed when 'regularizer' is specified)\n",
    "          # 是我们人为给定的量\n",
    "        # is_input_layer = 是否是输入层（第一层）= ns_mode???\n",
    "    \n",
    "        super(RGCN, self).__init__()\n",
    "\n",
    "        if num_bases == -1: \n",
    "            num_bases = num_rels\n",
    "        '''if self.num_bases <=0 (i.e. == -1) or self.num_bases > self.num_rels:\n",
    "                self.num_bases = self.num_rels\n",
    "                即矩阵分解的参数校验——对应论文的正则化部分\n",
    "                num_base 不能小于0 且不能大于现有维度，否则复杂度会变高，参数反而增加'''\n",
    "        # RelGraphConv(in_feat,out_feat,num_rels,regularizer,num_bases,bias,activation,self_loop,dropout, layer_norm=False)\n",
    "        # 以FB15k-237数据集输出为例\n",
    "        self.emb = nn.Embedding(num_nodes, h_dim) # (14541,500)\n",
    "        # in_feat = out_feat = h_dim = 500\n",
    "        self.conv1 = RelGraphConv(h_dim, h_dim, num_rels, regularizer,\n",
    "                                  num_bases, self_loop=self_loop) # num_rel = 474 = 237 * 2\n",
    "        self.conv2 = RelGraphConv(h_dim, out_dim, num_rels, regularizer, num_bases, self_loop=self_loop)\n",
    "        \n",
    "        self.dropout = nn.Dropout(dropout)\n",
    "        self.ns_mode = ns_mode \n",
    "\n"
   ]
  },
  {
   "cell_type": "markdown",
   "metadata": {
    "collapsed": false,
    "pycharm": {
     "name": "#%% md\n"
    }
   },
   "source": [
    "![formula_of_rgcn.jpg](https://s2.loli.net/2022/07/10/Gn9VWSRiMywT8oF.jpg)"
   ]
  },
  {
   "cell_type": "code",
   "execution_count": null,
   "metadata": {
    "collapsed": false,
    "pycharm": {
     "name": "#%%\n"
    }
   },
   "outputs": [],
   "source": [
    "# 原始的节点或边的类型和对应的ID被存储在 ndata 和 edata 中\n",
    "def forward(self, g, nids=None): # nids:原始的特定类型节点ID \n",
    "        # 利用公式（1）计算？\n",
    "        if self.ns_mode: # 如果不是第一层\n",
    "            # forward for neighbor sampling\n",
    "            # dgl 中的边都是有向的，由 u指向 v\n",
    "            # g[0]代表传入节点: u\n",
    "            # g[1]表示传出节点：v  \n",
    "            # dgl.NID: 节点特征, dgl.EID: 边特征\n",
    "            x = self.emb(g[0].srcdata[dgl.NID]) # x是embedding之后的传入节点特征\n",
    "            # 即在第一层输入传入节点u，embedding后的传入节点特征，传入节点特征的边特征， 传入节点的边的l2 norm(欧几里得范数)\n",
    "            h = self.conv1(g[0], x, g[0].edata[dgl.ETYPE], g[0].edata['norm']) # g[0].edata[dgl.ETYPE]：传入节点的边类型\n",
    "            h = self.dropout(F.relu(h))\n",
    "            # 第二层输入传出节点v，第一层输出结果h, 传出节点的边特征，传出节点的边的欧几里得范数\n",
    "            h = self.conv2(g[1], h, g[1].edata[dgl.ETYPE], g[1].edata['norm']) # g[1].edata[dgl.ETYPE]: 传出节点的边特征\n",
    "            return h\n",
    "            \n",
    "        else: #ns_mode = False 如果是第一层，用以下代码生成公式里的(W_0)*(h_i)项\n",
    "            # Embedding.weight (Tensor) – the learnable weights of the module of shape (num_embeddings, embedding_dim) initialized from normal distribution N(0,1)\n",
    "            # x 是初始化的权重张量\n",
    "        \n",
    "            x = self.emb.weight if nids is None else self.emb(nids)\n",
    "            h = self.conv1(g, x, g.edata[dgl.ETYPE], g.edata['norm']) \n",
    "            h = self.dropout(F.relu(h))\n",
    "            h = self.conv2(g, h, g.edata[dgl.ETYPE], g.edata['norm'])\n",
    "            return h\n"
   ]
  },
  {
   "cell_type": "markdown",
   "metadata": {
    "collapsed": false,
    "pycharm": {
     "name": "#%% md\n"
    }
   },
   "source": [
    "'''\n",
    "        dgl对于图的表示方法\n",
    "         # Source nodes for edges (2, 1), (3, 2), (4, 3)\n",
    "            src_ids = torch.tensor([2, 3, 4])\n",
    "            # Destination nodes for edges (2, 1), (3, 2), (4, 3)\n",
    "            dst_ids = torch.tensor([1, 2, 3])\n",
    "            g = dgl.graph((src_ids, dst_ids))\n",
    "        '''\n",
    "        # 分配和检索 node and edge features via ndata and edata\n",
    "            '''for example,\n",
    "            # Assign a 3-dimensional node feature vector for each node.\n",
    "            g.ndata['x'] = torch.randn(6, 3)\n",
    "            # Assign a 4-dimensional edge feature vector for each edge.\n",
    "            g.edata['a'] = torch.randn(5, 4)\n",
    "            # Assign a 5x4 node feature matrix for each node.  Node and edge features in DGL can be multi-dimensional.\n",
    "            g.ndata['y'] = torch.randn(6, 5, 4)\n",
    "\n",
    "            print(g.edata['a'])\n",
    "\n",
    "            output:\n",
    "            tensor([[ 0.0498,  1.2527,  0.1431, -0.7624],\n",
    "            [ 0.0602,  1.6373,  0.5788,  2.6319],\n",
    "            [ 0.4912,  0.3511, -1.1502, -0.1934],\n",
    "            [-1.5344, -0.4983,  1.6341, -0.2023],\n",
    "            [-0.5982, -3.5050, -1.2111,  0.0091]])\n",
    "            '''"
   ]
  },
  {
   "cell_type": "markdown",
   "metadata": {
    "collapsed": false,
    "pycharm": {
     "name": "#%% md\n"
    }
   },
   "source": [
    "## 实体分类(Entity Classification)"
   ]
  },
  {
   "cell_type": "code",
   "execution_count": null,
   "metadata": {
    "collapsed": false,
    "pycharm": {
     "name": "#%%\n"
    }
   },
   "outputs": [],
   "source": [
    "def main(args):\n",
    "    g, num_rels, num_classes, labels, train_idx, test_idx, target_idx = load_data(\n",
    "        args.dataset, get_norm=True)\n",
    "\n",
    "    model = RGCN(g.num_nodes(),\n",
    "                 args.n_hidden,\n",
    "                 num_classes,\n",
    "                 num_rels,\n",
    "                 num_bases=args.n_bases)\n",
    "\n",
    "    if args.gpu >= 0 and th.cuda.is_available():\n",
    "        device = th.device(args.gpu)\n",
    "    else:\n",
    "        device = th.device('cpu')\n",
    "    labels = labels.to(device)\n",
    "    model = model.to(device)\n",
    "    g = g.int().to(device)\n",
    "\n",
    "    optimizer = th.optim.Adam(model.parameters(), lr=1e-2, weight_decay=args.wd)\n",
    "\n",
    "    model.train()\n",
    "    for epoch in range(100):\n",
    "        logits = model(g)\n",
    "        logits = logits[target_idx]\n",
    "        loss = F.cross_entropy(logits[train_idx], labels[train_idx])\n",
    "        optimizer.zero_grad()\n",
    "        loss.backward()\n",
    "        optimizer.step()\n",
    "\n",
    "        train_acc = accuracy(logits[train_idx].argmax(dim=1), labels[train_idx]).item()\n",
    "        print(\"Epoch {:05d} | Train Accuracy: {:.4f} | Train Loss: {:.4f}\".format(\n",
    "            epoch, train_acc, loss.item()))\n",
    "    print()\n",
    "\n",
    "    model.eval()\n",
    "    with th.no_grad():\n",
    "        logits = model(g)\n",
    "    logits = logits[target_idx]\n",
    "    test_acc = accuracy(logits[test_idx].argmax(dim=1), labels[test_idx]).item()\n",
    "    print(\"Test Accuracy: {:.4f}\".format(test_acc))"
   ]
  },
  {
   "cell_type": "code",
   "execution_count": null,
   "metadata": {
    "collapsed": false,
    "pycharm": {
     "name": "#%%\n"
    }
   },
   "outputs": [],
   "source": [
    "if __name__ == '__main__':\n",
    "    parser = argparse.ArgumentParser(description='RGCN for entity classification')\n",
    "    parser.add_argument(\"--n-hidden\", type=int, default=16,\n",
    "                        help=\"number of hidden units\")\n",
    "    parser.add_argument(\"--gpu\", type=int, default=-1,\n",
    "                        help=\"gpu\")\n",
    "    parser.add_argument(\"--n-bases\", type=int, default=-1,\n",
    "                        help=\"number of filter weight matrices, default: -1 [use all]\")\n",
    "    parser.add_argument(\"-d\", \"--dataset\", type=str, required=True,\n",
    "                        choices=['aifb', 'mutag', 'bgs', 'am'],\n",
    "                        help=\"dataset to use\")\n",
    "    parser.add_argument(\"--wd\", type=float, default=5e-4,\n",
    "                        help=\"weight decay\")\n",
    "\n",
    "    args = parser.parse_args()\n",
    "    print(args)\n",
    "    main(args)\n",
    "    "
   ]
  },
  {
   "cell_type": "markdown",
   "metadata": {
    "collapsed": false,
    "pycharm": {
     "name": "#%% md\n"
    }
   },
   "source": [
    "## 关系预测(Link Prediction)"
   ]
  },
  {
   "cell_type": "code",
   "execution_count": null,
   "metadata": {
    "collapsed": false,
    "pycharm": {
     "name": "#%%\n"
    }
   },
   "outputs": [],
   "source": [
    "# 与entity classification 完全相同，只是将 relation 个数乘了2\n",
    "# 将正则方式换成块对角分解\n",
    "# forFB15k-237 数据集\n",
    "        # h_dim：500\n",
    "        # num_bases:100(人为设置，即公式(4)中的B i.e. 累加上限)\n",
    "        # out_dim:500\n",
    "        # num_nodes: 14541\n",
    "        # num_rel:474 = 237 * 2(乘2原因？)\n",
    "\n",
    "class LinkPredict(nn.Module):\n",
    "    def __init__(self, in_dim, num_rels, h_dim=500, num_bases=100, dropout=0.2, reg_param=0.01):\n",
    "        super(LinkPredict, self).__init__()\n",
    "        # 这里为什么num_rel要乘2？？\n",
    "        # reg_param: 正则化参数 : l2 regularization to the decoder with penalty of 0.01\n",
    "        self.rgcn = RGCN(in_dim, h_dim, h_dim, num_rels * 2, regularizer=\"bdd\",\n",
    "                         num_bases=num_bases, dropout=dropout, self_loop=True)\n",
    "        self.dropout = nn.Dropout(dropout)\n",
    "        self.reg_param = reg_param\n",
    "        self.w_relation = nn.Parameter(th.Tensor(num_rels, h_dim))\n",
    "        nn.init.xavier_uniform_(self.w_relation,\n",
    "                                gain=nn.init.calculate_gain('relu'))"
   ]
  },
  {
   "cell_type": "markdown",
   "metadata": {},
   "source": [
    "![score.jpg](https://s2.loli.net/2022/07/10/2U9OEWNiprl4RYG.jpg)\n",
    "\n",
    "![loss.jpg](https://s2.loli.net/2022/07/10/Qx4cRq9svzPpoS6.jpg)"
   ]
  },
  {
   "cell_type": "code",
   "execution_count": null,
   "metadata": {
    "collapsed": false,
    "pycharm": {
     "name": "#%%\n"
    }
   },
   "outputs": [],
   "source": [
    "def calc_score(self, embedding, triplets):\n",
    "        # score即对应上方公式(1)\n",
    "        # e_i = h_i\n",
    "        # R_r 为对角矩阵\n",
    "        # 我们用一个directed and labeled graph G = (V, E, R) 来表示知识库(knowledge base)\n",
    "        # triplets： 即(subject, relation, object)元组\n",
    "        # assign scores to possible edges(s, r, o) 来判定这些边属于E的可能性\n",
    "        s = embedding[triplets[:,0]]\n",
    "        r = self.w_relation[triplets[:,1]]\n",
    "        o = embedding[triplets[:,2]]\n",
    "        score = th.sum(s * r * o, dim=1)\n",
    "        return score\n",
    "\n",
    "def forward(self, g, nids):\n",
    "        return self.dropout(self.rgcn(g, nids=nids))\n",
    "\n",
    "def regularization_loss(self, embedding):\n",
    "        return th.mean(embedding.pow(2)) + th.mean(self.w_relation.pow(2))\n",
    "\n",
    " def get_loss(self, embed, triplets, labels):\n",
    "        # each row in the triplets is a 3-tuple of (source, relation, destination)\n",
    "        score = self.calc_score(embed, triplets)\n",
    "        predict_loss = F.binary_cross_entropy_with_logits(score, labels)\n",
    "        reg_loss = self.regularization_loss(embed)\n",
    "        return predict_loss + self.reg_param * reg_loss"
   ]
  },
  {
   "cell_type": "code",
   "execution_count": null,
   "metadata": {
    "collapsed": false,
    "pycharm": {
     "name": "#%%\n"
    }
   },
   "outputs": [],
   "source": [
    "# FB15K-237 dateset\n",
    "# entities: 14,541\n",
    "# relations: 237\n",
    "# train edges: 272,115\n",
    "# validation edges: 17,535\n",
    "# test edges: 20466\n",
    "def main(args):\n",
    "    data = FB15k237Dataset(reverse=False)\n",
    "    graph = data[0] \n",
    "    num_nodes = graph.num_nodes() # 14541\n",
    "    num_rels = data.num_rels # 237\n",
    "\n",
    "    # test_g = Graph(num_nodes=14541, num_edges=544230)\n",
    "    # train_g = Graph(num_nodes=14541,num_edges=272115)\n",
    "    \n",
    "    train_g, test_g = preprocess(graph, num_rels)\n",
    "    test_nids = th.arange(0, num_nodes)\n",
    "    test_mask = graph.edata['test_mask']\n",
    "    subg_iter = SubgraphIterator(train_g, num_rels, args.edge_sampler)\n",
    "    dataloader = GraphDataLoader(subg_iter, batch_size=1, collate_fn=lambda x: x[0])\n",
    "\n",
    "    # Prepare data for metric computation\n",
    "    src, dst = graph.edges()\n",
    "    triplets = th.stack([src, graph.edata['etype'], dst], dim=1)\n",
    "\n",
    "    model = LinkPredict(num_nodes, num_rels)\n",
    "    optimizer = th.optim.Adam(model.parameters(), lr=1e-2)\n",
    "\n",
    "    if args.gpu >= 0 and th.cuda.is_available():\n",
    "        device = th.device(args.gpu)\n",
    "    else:\n",
    "        device = th.device('cpu')\n",
    "    model = model.to(device)\n",
    "\n",
    "    best_mrr = 0\n",
    "    model_state_file = 'model_state.pth'\n",
    "    for epoch, batch_data in enumerate(dataloader):\n",
    "        model.train()\n",
    "        g, train_nids, edges, labels = batch_data\n",
    "        g = g.to(device) \n",
    "        train_nids = train_nids.to(device)\n",
    "        edges = edges.to(device)\n",
    "        labels = labels.to(device)\n",
    "\n",
    "        embed = model(g, train_nids)\n",
    "        loss = model.get_loss(embed, edges, labels)\n",
    "        optimizer.zero_grad()\n",
    "        loss.backward()\n",
    "        nn.utils.clip_grad_norm_(model.parameters(), max_norm=1.0) # clip gradients\n",
    "        optimizer.step()\n",
    "\n",
    "        print(\"Epoch {:04d} | Loss {:.4f} | Best MRR {:.4f}\".format(epoch, loss.item(), best_mrr))\n",
    "\n",
    "        if (epoch + 1) % 500 == 0:\n",
    "            # perform validation on CPU because full graph is too large\n",
    "            model = model.cpu()\n",
    "            model.eval()\n",
    "            print(\"start eval\")\n",
    "            embed = model(test_g, test_nids)\n",
    "            mrr = calc_mrr(embed, model.w_relation, test_mask, triplets,\n",
    "                           batch_size=500, eval_p=args.eval_protocol)\n",
    "            # save best model\n",
    "            if best_mrr < mrr:\n",
    "                best_mrr = mrr\n",
    "                th.save({'state_dict': model.state_dict(), 'epoch': epoch}, model_state_file)\n",
    "\n",
    "            model = model.to(device)"
   ]
  },
  {
   "cell_type": "code",
   "execution_count": null,
   "metadata": {
    "collapsed": false,
    "pycharm": {
     "name": "#%%\n"
    }
   },
   "outputs": [],
   "source": [
    "if __name__ == '__main__':\n",
    "    parser = argparse.ArgumentParser(description='RGCN for entity classification')\n",
    "    parser.add_argument(\"--n-hidden\", type=int, default=16,\n",
    "                        help=\"number of hidden units\")\n",
    "    parser.add_argument(\"--gpu\", type=int, default=-1,\n",
    "                        help=\"gpu\")\n",
    "    parser.add_argument(\"--n-bases\", type=int, default=-1,\n",
    "                        help=\"number of filter weight matrices, default: -1 [use all]\")\n",
    "    parser.add_argument(\"-d\", \"--dataset\", type=str, required=True,\n",
    "                        choices=['aifb', 'mutag', 'bgs', 'am'],\n",
    "                        help=\"dataset to use\")\n",
    "    parser.add_argument(\"--wd\", type=float, default=5e-4,\n",
    "                        help=\"weight decay\")\n",
    "\n",
    "    args = parser.parse_args()\n",
    "    print(args)\n",
    "    main(args)\n",
    "    "
   ]
  }
 ],
 "metadata": {
  "kernelspec": {
   "display_name": "Python 3.8.13 64-bit",
   "language": "python",
   "name": "python3"
  },
  "language_info": {
   "codemirror_mode": {
    "name": "ipython",
    "version": 3
   },
   "file_extension": ".py",
   "mimetype": "text/x-python",
   "name": "python",
   "nbconvert_exporter": "python",
   "pygments_lexer": "ipython3",
   "version": "3.8.13"
  },
  "orig_nbformat": 4,
  "vscode": {
   "interpreter": {
    "hash": "767d51c1340bd893661ea55ea3124f6de3c7a262a8b4abca0554b478b1e2ff90"
   }
  }
 },
 "nbformat": 4,
 "nbformat_minor": 2
}
